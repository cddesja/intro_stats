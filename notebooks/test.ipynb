{
 "cells": [
  {
   "cell_type": "markdown",
   "metadata": {},
   "source": [
    "# Symptom Emergence"
   ]
  },
  {
   "cell_type": "markdown",
   "metadata": {},
   "source": [
    "- last modified: 21 november 2019\n",
    "- created: 3 may 2019\n",
    "- author: chris desjardins"
   ]
  },
  {
   "cell_type": "markdown",
   "metadata": {},
   "source": [
    "## Functions"
   ]
  },
  {
   "cell_type": "code",
   "execution_count": 3,
   "metadata": {},
   "outputs": [],
   "source": [
    "#' Score eating disorders\n",
    "#' assigns a value of 1 if a participant has an ED\n",
    "#' otherwise assign a 0 or NA if missing.\n",
    "#' @param x vector, matrix, or data.frame of variable(s)\n",
    "scoreED <- function(x){\n",
    "  val <- any(x == 1)\n",
    "  if(!is.na(val) & val == FALSE){\n",
    "    val <- max(x)\n",
    "  }\n",
    "  if(!is.na(val) & val == TRUE){\n",
    "    val <- 1\n",
    "  }\n",
    "  val\n",
    "}\n",
    "\n",
    "#' Determine month when eating disorder occurs\n",
    "#' returns the month the ED first occurred\n",
    "#' otherwise assign a 0 or NA if missing.\n",
    "#' @param x vector, matrix, or data.frame of variable(s)\n",
    "month_dev <- function(x){\n",
    "  month <- rep(1:36, 2)\n",
    "  var <- which(x == 1)\n",
    "  min.var <- min(var)\n",
    "  month[min.var]\n",
    "}\n",
    "\n",
    "#' Convert infinite responses to NAs\n",
    "#' If the value comes back as infinite recode as NA\n",
    "#' @param x variable to recode\n",
    "infToNA <- function(x){\n",
    "  ifelse(is.infinite(x), NA, x)\n",
    "}\n",
    "\n",
    "#' percent table\n",
    "perc_tab <- function(x){\n",
    "  round(prop.table(table(x)) * 100, 1)\n",
    "}"
   ]
  },
  {
   "cell_type": "markdown",
   "metadata": {},
   "source": [
    "## Clean Data"
   ]
  },
  {
   "cell_type": "code",
   "execution_count": 4,
   "metadata": {},
   "outputs": [
    {
     "name": "stderr",
     "output_type": "stream",
     "text": [
      "\n",
      "Attaching package: ‘dplyr’\n",
      "\n",
      "The following objects are masked from ‘package:stats’:\n",
      "\n",
      "    filter, lag\n",
      "\n",
      "The following objects are masked from ‘package:base’:\n",
      "\n",
      "    intersect, setdiff, setequal, union\n",
      "\n",
      "Loading required package: xml2\n"
     ]
    }
   ],
   "source": [
    "library(dplyr)\n",
    "library(rvest)"
   ]
  },
  {
   "cell_type": "code",
   "execution_count": 5,
   "metadata": {},
   "outputs": [
    {
     "ename": "ERROR",
     "evalue": "Error in foreign::read.spss(\"BP1234.sav\", to.data.frame = TRUE): unable to open file: 'No such file or directory'\n",
     "output_type": "error",
     "traceback": [
      "Error in foreign::read.spss(\"BP1234.sav\", to.data.frame = TRUE): unable to open file: 'No such file or directory'\nTraceback:\n",
      "1. foreign::read.spss(\"BP1234.sav\", to.data.frame = TRUE)"
     ]
    }
   ],
   "source": [
    "bp1234 <- foreign::read.spss(\"BP1234.sav\",\n",
    "                             to.data.frame = TRUE)"
   ]
  },
  {
   "cell_type": "code",
   "execution_count": null,
   "metadata": {},
   "outputs": [],
   "source": []
  }
 ],
 "metadata": {
  "kernelspec": {
   "display_name": "R",
   "language": "R",
   "name": "ir"
  },
  "language_info": {
   "codemirror_mode": "r",
   "file_extension": ".r",
   "mimetype": "text/x-r-source",
   "name": "R",
   "pygments_lexer": "r",
   "version": "3.6.1"
  }
 },
 "nbformat": 4,
 "nbformat_minor": 2
}
